{
 "cells": [
  {
   "cell_type": "code",
   "execution_count": 22,
   "id": "c3175110-ff20-491f-bf09-7f3d36a530bd",
   "metadata": {},
   "outputs": [
    {
     "name": "stdout",
     "output_type": "stream",
     "text": [
      "Collecting pytrends\n",
      "  Using cached pytrends-4.9.2-py3-none-any.whl.metadata (13 kB)\n",
      "Requirement already satisfied: requests>=2.0 in d:\\softwares\\anaconda3\\lib\\site-packages (from pytrends) (2.32.3)\n",
      "Requirement already satisfied: pandas>=0.25 in d:\\softwares\\anaconda3\\lib\\site-packages (from pytrends) (2.2.2)\n",
      "Requirement already satisfied: lxml in d:\\softwares\\anaconda3\\lib\\site-packages (from pytrends) (5.2.1)\n",
      "Requirement already satisfied: numpy>=1.26.0 in d:\\softwares\\anaconda3\\lib\\site-packages (from pandas>=0.25->pytrends) (1.26.4)\n",
      "Requirement already satisfied: python-dateutil>=2.8.2 in d:\\softwares\\anaconda3\\lib\\site-packages (from pandas>=0.25->pytrends) (2.9.0.post0)\n",
      "Requirement already satisfied: pytz>=2020.1 in d:\\softwares\\anaconda3\\lib\\site-packages (from pandas>=0.25->pytrends) (2024.1)\n",
      "Requirement already satisfied: tzdata>=2022.7 in d:\\softwares\\anaconda3\\lib\\site-packages (from pandas>=0.25->pytrends) (2023.3)\n",
      "Requirement already satisfied: charset-normalizer<4,>=2 in d:\\softwares\\anaconda3\\lib\\site-packages (from requests>=2.0->pytrends) (3.3.2)\n",
      "Requirement already satisfied: idna<4,>=2.5 in d:\\softwares\\anaconda3\\lib\\site-packages (from requests>=2.0->pytrends) (3.7)\n",
      "Requirement already satisfied: urllib3<3,>=1.21.1 in d:\\softwares\\anaconda3\\lib\\site-packages (from requests>=2.0->pytrends) (2.2.3)\n",
      "Requirement already satisfied: certifi>=2017.4.17 in d:\\softwares\\anaconda3\\lib\\site-packages (from requests>=2.0->pytrends) (2025.1.31)\n",
      "Requirement already satisfied: six>=1.5 in d:\\softwares\\anaconda3\\lib\\site-packages (from python-dateutil>=2.8.2->pandas>=0.25->pytrends) (1.16.0)\n",
      "Using cached pytrends-4.9.2-py3-none-any.whl (15 kB)\n",
      "Installing collected packages: pytrends\n",
      "Successfully installed pytrends-4.9.2\n"
     ]
    }
   ],
   "source": [
    "import sys\n",
    "!{sys.executable} -m pip install pytrends\n",
    "\n"
   ]
  },
  {
   "cell_type": "code",
   "execution_count": 3,
   "id": "17639d7f-04be-4e5f-b47e-e22037e12385",
   "metadata": {},
   "outputs": [],
   "source": [
    "from pytrends.request import TrendReq\n",
    "import pandas as pd"
   ]
  },
  {
   "cell_type": "code",
   "execution_count": 38,
   "id": "38d165d2-5b75-4472-a661-8a101ec5c9f5",
   "metadata": {},
   "outputs": [],
   "source": [
    "import pandas as pd\n",
    "import matplotlib.pyplot as plt\n",
    "import seaborn as sns\n",
    "import numpy as np\n",
    "\n",
    "# Set plot style\n",
    "sns.set(style=\"whitegrid\")\n"
   ]
  },
  {
   "cell_type": "code",
   "execution_count": 7,
   "id": "dc662f5f-60ad-4741-9c0b-08573c9fb5b7",
   "metadata": {},
   "outputs": [],
   "source": [
    "pytrends = TrendReq(hl='en-US', tz=360)\n",
    "# Step 1: Connect to Google Trends"
   ]
  },
  {
   "cell_type": "code",
   "execution_count": 9,
   "id": "6d1859dd-18b9-4219-b73a-d76f4c67a302",
   "metadata": {},
   "outputs": [],
   "source": [
    "tools = ['ChatGPT','DALL-E','Google Bard','Claude AI', 'GitHub Copilot']\n",
    "# Step 2: Define GenAI tools to track"
   ]
  },
  {
   "cell_type": "code",
   "execution_count": 11,
   "id": "a1efe9ea-6e7f-4931-a01d-5b7fef9d901b",
   "metadata": {},
   "outputs": [],
   "source": [
    "pytrends.build_payload(tools, cat=0, timeframe = 'today 12-m', geo='', gprop='')\n",
    "# Step 3: Fetch data for the last 12 months"
   ]
  },
  {
   "cell_type": "code",
   "execution_count": 13,
   "id": "c0024f8d-76be-440b-83bc-72bf91bdc750",
   "metadata": {},
   "outputs": [
    {
     "name": "stderr",
     "output_type": "stream",
     "text": [
      "D:\\Softwares\\Anaconda3\\Lib\\site-packages\\pytrends\\request.py:260: FutureWarning: Downcasting object dtype arrays on .fillna, .ffill, .bfill is deprecated and will change in a future version. Call result.infer_objects(copy=False) instead. To opt-in to the future behavior, set `pd.set_option('future.no_silent_downcasting', True)`\n",
      "  df = df.fillna(False)\n"
     ]
    }
   ],
   "source": [
    "data = pytrends.interest_over_time()\n",
    "#fetches the actual data and returns it in a table format."
   ]
  },
  {
   "cell_type": "code",
   "execution_count": 23,
   "id": "f7392a43-d0fa-45dd-8263-0fc7c4a21579",
   "metadata": {},
   "outputs": [
    {
     "ename": "KeyError",
     "evalue": "\"['isPartial'] not found in axis\"",
     "output_type": "error",
     "traceback": [
      "\u001b[1;31m---------------------------------------------------------------------------\u001b[0m",
      "\u001b[1;31mKeyError\u001b[0m                                  Traceback (most recent call last)",
      "Cell \u001b[1;32mIn[23], line 1\u001b[0m\n\u001b[1;32m----> 1\u001b[0m data \u001b[38;5;241m=\u001b[39mdata\u001b[38;5;241m.\u001b[39mdrop(columns\u001b[38;5;241m=\u001b[39m\u001b[38;5;124m'\u001b[39m\u001b[38;5;124misPartial\u001b[39m\u001b[38;5;124m'\u001b[39m)\n\u001b[0;32m      2\u001b[0m data\u001b[38;5;241m.\u001b[39mreset_index(inplace\u001b[38;5;241m=\u001b[39m\u001b[38;5;28;01mTrue\u001b[39;00m)\n",
      "File \u001b[1;32mD:\\Softwares\\Anaconda3\\Lib\\site-packages\\pandas\\core\\frame.py:5581\u001b[0m, in \u001b[0;36mDataFrame.drop\u001b[1;34m(self, labels, axis, index, columns, level, inplace, errors)\u001b[0m\n\u001b[0;32m   5433\u001b[0m \u001b[38;5;28;01mdef\u001b[39;00m \u001b[38;5;21mdrop\u001b[39m(\n\u001b[0;32m   5434\u001b[0m     \u001b[38;5;28mself\u001b[39m,\n\u001b[0;32m   5435\u001b[0m     labels: IndexLabel \u001b[38;5;241m|\u001b[39m \u001b[38;5;28;01mNone\u001b[39;00m \u001b[38;5;241m=\u001b[39m \u001b[38;5;28;01mNone\u001b[39;00m,\n\u001b[1;32m   (...)\u001b[0m\n\u001b[0;32m   5442\u001b[0m     errors: IgnoreRaise \u001b[38;5;241m=\u001b[39m \u001b[38;5;124m\"\u001b[39m\u001b[38;5;124mraise\u001b[39m\u001b[38;5;124m\"\u001b[39m,\n\u001b[0;32m   5443\u001b[0m ) \u001b[38;5;241m-\u001b[39m\u001b[38;5;241m>\u001b[39m DataFrame \u001b[38;5;241m|\u001b[39m \u001b[38;5;28;01mNone\u001b[39;00m:\n\u001b[0;32m   5444\u001b[0m \u001b[38;5;250m    \u001b[39m\u001b[38;5;124;03m\"\"\"\u001b[39;00m\n\u001b[0;32m   5445\u001b[0m \u001b[38;5;124;03m    Drop specified labels from rows or columns.\u001b[39;00m\n\u001b[0;32m   5446\u001b[0m \n\u001b[1;32m   (...)\u001b[0m\n\u001b[0;32m   5579\u001b[0m \u001b[38;5;124;03m            weight  1.0     0.8\u001b[39;00m\n\u001b[0;32m   5580\u001b[0m \u001b[38;5;124;03m    \"\"\"\u001b[39;00m\n\u001b[1;32m-> 5581\u001b[0m     \u001b[38;5;28;01mreturn\u001b[39;00m \u001b[38;5;28msuper\u001b[39m()\u001b[38;5;241m.\u001b[39mdrop(\n\u001b[0;32m   5582\u001b[0m         labels\u001b[38;5;241m=\u001b[39mlabels,\n\u001b[0;32m   5583\u001b[0m         axis\u001b[38;5;241m=\u001b[39maxis,\n\u001b[0;32m   5584\u001b[0m         index\u001b[38;5;241m=\u001b[39mindex,\n\u001b[0;32m   5585\u001b[0m         columns\u001b[38;5;241m=\u001b[39mcolumns,\n\u001b[0;32m   5586\u001b[0m         level\u001b[38;5;241m=\u001b[39mlevel,\n\u001b[0;32m   5587\u001b[0m         inplace\u001b[38;5;241m=\u001b[39minplace,\n\u001b[0;32m   5588\u001b[0m         errors\u001b[38;5;241m=\u001b[39merrors,\n\u001b[0;32m   5589\u001b[0m     )\n",
      "File \u001b[1;32mD:\\Softwares\\Anaconda3\\Lib\\site-packages\\pandas\\core\\generic.py:4788\u001b[0m, in \u001b[0;36mNDFrame.drop\u001b[1;34m(self, labels, axis, index, columns, level, inplace, errors)\u001b[0m\n\u001b[0;32m   4786\u001b[0m \u001b[38;5;28;01mfor\u001b[39;00m axis, labels \u001b[38;5;129;01min\u001b[39;00m axes\u001b[38;5;241m.\u001b[39mitems():\n\u001b[0;32m   4787\u001b[0m     \u001b[38;5;28;01mif\u001b[39;00m labels \u001b[38;5;129;01mis\u001b[39;00m \u001b[38;5;129;01mnot\u001b[39;00m \u001b[38;5;28;01mNone\u001b[39;00m:\n\u001b[1;32m-> 4788\u001b[0m         obj \u001b[38;5;241m=\u001b[39m obj\u001b[38;5;241m.\u001b[39m_drop_axis(labels, axis, level\u001b[38;5;241m=\u001b[39mlevel, errors\u001b[38;5;241m=\u001b[39merrors)\n\u001b[0;32m   4790\u001b[0m \u001b[38;5;28;01mif\u001b[39;00m inplace:\n\u001b[0;32m   4791\u001b[0m     \u001b[38;5;28mself\u001b[39m\u001b[38;5;241m.\u001b[39m_update_inplace(obj)\n",
      "File \u001b[1;32mD:\\Softwares\\Anaconda3\\Lib\\site-packages\\pandas\\core\\generic.py:4830\u001b[0m, in \u001b[0;36mNDFrame._drop_axis\u001b[1;34m(self, labels, axis, level, errors, only_slice)\u001b[0m\n\u001b[0;32m   4828\u001b[0m         new_axis \u001b[38;5;241m=\u001b[39m axis\u001b[38;5;241m.\u001b[39mdrop(labels, level\u001b[38;5;241m=\u001b[39mlevel, errors\u001b[38;5;241m=\u001b[39merrors)\n\u001b[0;32m   4829\u001b[0m     \u001b[38;5;28;01melse\u001b[39;00m:\n\u001b[1;32m-> 4830\u001b[0m         new_axis \u001b[38;5;241m=\u001b[39m axis\u001b[38;5;241m.\u001b[39mdrop(labels, errors\u001b[38;5;241m=\u001b[39merrors)\n\u001b[0;32m   4831\u001b[0m     indexer \u001b[38;5;241m=\u001b[39m axis\u001b[38;5;241m.\u001b[39mget_indexer(new_axis)\n\u001b[0;32m   4833\u001b[0m \u001b[38;5;66;03m# Case for non-unique axis\u001b[39;00m\n\u001b[0;32m   4834\u001b[0m \u001b[38;5;28;01melse\u001b[39;00m:\n",
      "File \u001b[1;32mD:\\Softwares\\Anaconda3\\Lib\\site-packages\\pandas\\core\\indexes\\base.py:7070\u001b[0m, in \u001b[0;36mIndex.drop\u001b[1;34m(self, labels, errors)\u001b[0m\n\u001b[0;32m   7068\u001b[0m \u001b[38;5;28;01mif\u001b[39;00m mask\u001b[38;5;241m.\u001b[39many():\n\u001b[0;32m   7069\u001b[0m     \u001b[38;5;28;01mif\u001b[39;00m errors \u001b[38;5;241m!=\u001b[39m \u001b[38;5;124m\"\u001b[39m\u001b[38;5;124mignore\u001b[39m\u001b[38;5;124m\"\u001b[39m:\n\u001b[1;32m-> 7070\u001b[0m         \u001b[38;5;28;01mraise\u001b[39;00m \u001b[38;5;167;01mKeyError\u001b[39;00m(\u001b[38;5;124mf\u001b[39m\u001b[38;5;124m\"\u001b[39m\u001b[38;5;132;01m{\u001b[39;00mlabels[mask]\u001b[38;5;241m.\u001b[39mtolist()\u001b[38;5;132;01m}\u001b[39;00m\u001b[38;5;124m not found in axis\u001b[39m\u001b[38;5;124m\"\u001b[39m)\n\u001b[0;32m   7071\u001b[0m     indexer \u001b[38;5;241m=\u001b[39m indexer[\u001b[38;5;241m~\u001b[39mmask]\n\u001b[0;32m   7072\u001b[0m \u001b[38;5;28;01mreturn\u001b[39;00m \u001b[38;5;28mself\u001b[39m\u001b[38;5;241m.\u001b[39mdelete(indexer)\n",
      "\u001b[1;31mKeyError\u001b[0m: \"['isPartial'] not found in axis\""
     ]
    }
   ],
   "source": [
    "data =data.drop(columns='isPartial')\n",
    "data.reset_index(inplace=True)\n",
    "# Clean the data"
   ]
  },
  {
   "cell_type": "code",
   "execution_count": 17,
   "id": "9477f6e9-5a8f-4369-b12a-b2edda2ac2e5",
   "metadata": {},
   "outputs": [
    {
     "ename": "NameError",
     "evalue": "name 'df' is not defined",
     "output_type": "error",
     "traceback": [
      "\u001b[1;31m---------------------------------------------------------------------------\u001b[0m",
      "\u001b[1;31mNameError\u001b[0m                                 Traceback (most recent call last)",
      "Cell \u001b[1;32mIn[17], line 1\u001b[0m\n\u001b[1;32m----> 1\u001b[0m \u001b[38;5;28mprint\u001b[39m(df\u001b[38;5;241m.\u001b[39mcolumns)\n",
      "\u001b[1;31mNameError\u001b[0m: name 'df' is not defined"
     ]
    }
   ],
   "source": [
    "print(df.columns)"
   ]
  },
  {
   "cell_type": "code",
   "execution_count": null,
   "id": "ce20347d-41db-4ca8-9053-a29b644dfe5c",
   "metadata": {},
   "outputs": [],
   "source": [
    "data.to_csv('genai_usage_trends.csv',index=False)\n",
    "#Save to CSV"
   ]
  },
  {
   "cell_type": "code",
   "execution_count": 21,
   "id": "9999d7a3-2cf8-44ee-9733-680165632b1e",
   "metadata": {},
   "outputs": [
    {
     "name": "stdout",
     "output_type": "stream",
     "text": [
      "✅ Data saved as genai_usage_trends.csv\n"
     ]
    }
   ],
   "source": [
    "print(\"✅ Data saved as genai_usage_trends.csv\")"
   ]
  },
  {
   "cell_type": "code",
   "execution_count": 34,
   "id": "609c4182-cca7-4f7f-846a-13a23b0d87c7",
   "metadata": {},
   "outputs": [
    {
     "name": "stdout",
     "output_type": "stream",
     "text": [
      "DatetimeIndex(['2024-07-01', '2024-07-08', '2024-07-15', '2024-07-22',\n",
      "               '2024-07-29', '2024-08-05', '2024-08-12', '2024-08-19',\n",
      "               '2024-08-26', '2024-09-02', '2024-09-09', '2024-09-16',\n",
      "               '2024-09-23', '2024-09-30', '2024-10-07', '2024-10-14',\n",
      "               '2024-10-21', '2024-10-28', '2024-11-04', '2024-11-11',\n",
      "               '2024-11-18', '2024-11-25', '2024-12-02', '2024-12-09',\n",
      "               '2024-12-16', '2024-12-23', '2024-12-30', '2025-01-06',\n",
      "               '2025-01-13', '2025-01-20', '2025-01-27', '2025-02-03',\n",
      "               '2025-02-10', '2025-02-17', '2025-02-24', '2025-03-03',\n",
      "               '2025-03-10', '2025-03-17', '2025-03-24', '2025-03-31',\n",
      "               '2025-04-07', '2025-04-14', '2025-04-21', '2025-04-28',\n",
      "               '2025-05-05', '2025-05-12', '2025-05-19', '2025-05-26',\n",
      "               '2025-06-02', '2025-06-09', '2025-06-16', '2025-06-23'],\n",
      "              dtype='datetime64[ns]', freq='W-MON')\n"
     ]
    }
   ],
   "source": [
    "date_range= pd.date_range(start=\"2024-07-01\", periods=52, freq='W-Mon')\n",
    "#creates a list of 52 dates, one per week, starting on Monday, July 1, 2024.\n",
    "print(date_range)"
   ]
  },
  {
   "cell_type": "code",
   "execution_count": 40,
   "id": "636cf265-8963-48aa-8ede-97924e61ef11",
   "metadata": {},
   "outputs": [],
   "source": [
    "np.random.seed(42)"
   ]
  },
  {
   "cell_type": "code",
   "execution_count": 46,
   "id": "3cae7eb4-62f6-41e5-8a7e-654d85bc156f",
   "metadata": {},
   "outputs": [],
   "source": [
    "data={\n",
    "    'date': date_range,\n",
    "    'ChatGPT': np.random.normal(85,5,52).clip(60,100),\n",
    "    'DALL-E': np.random.normal(60,8,52).clip(30,90),\n",
    "    'Google Bard': np.random.normal(50,10,52).clip(20,80),\n",
    "    'Claude AI': np.linspace(20,75,52)+ np.random.normal(0,5,52),\n",
    "    'GitHub Copilot': np.linspace(25,70,52) + np.random.normal(0,4,52)\n",
    "}"
   ]
  },
  {
   "cell_type": "code",
   "execution_count": 52,
   "id": "c669a7b2-57fd-48ed-a346-a964c1dd84d9",
   "metadata": {},
   "outputs": [],
   "source": [
    "df=pd.DataFrame(data)\n",
    "df.to_csv(\"genai_usage_trends.csv\", index = False)"
   ]
  },
  {
   "cell_type": "code",
   "execution_count": null,
   "id": "48018e97-3820-4d5a-88d4-4a5af048c6a5",
   "metadata": {},
   "outputs": [],
   "source": []
  }
 ],
 "metadata": {
  "kernelspec": {
   "display_name": "Python [conda env:base] *",
   "language": "python",
   "name": "conda-base-py"
  },
  "language_info": {
   "codemirror_mode": {
    "name": "ipython",
    "version": 3
   },
   "file_extension": ".py",
   "mimetype": "text/x-python",
   "name": "python",
   "nbconvert_exporter": "python",
   "pygments_lexer": "ipython3",
   "version": "3.12.7"
  }
 },
 "nbformat": 4,
 "nbformat_minor": 5
}
